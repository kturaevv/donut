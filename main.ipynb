{
 "cells": [
  {
   "cell_type": "code",
   "execution_count": 6,
   "metadata": {},
   "outputs": [],
   "source": [
    "import numpy as np\n",
    "from PIL import Image\n",
    "from dataclasses import dataclass"
   ]
  },
  {
   "cell_type": "code",
   "execution_count": 44,
   "metadata": {},
   "outputs": [
    {
     "name": "stdout",
     "output_type": "stream",
     "text": [
      "K:  0.5\n",
      "                    x   y   z\n",
      "World position:     0.0 0.0 0.0\n",
      "Screen projection:  0.0 0.0\n",
      "Screen pixels:      960.0 540.0\n"
     ]
    }
   ],
   "source": [
    "screen_x, screen_y = 1920, 1080 \n",
    "eye_distance = 2\n",
    "distance_to_origin = 2\n",
    "\n",
    "@dataclass\n",
    "class Vertex:\n",
    "    xyz: np.ndarray[3]\n",
    "\n",
    "    @property\n",
    "    def x(self): return self.xyz[0]\n",
    "    @property\n",
    "    def y(self): return self.xyz[1]\n",
    "    @property\n",
    "    def z(self): return self.xyz[2]\n",
    "\n",
    "def draw_vertex(vert: Vertex) -> tuple[int, int]:\n",
    "    k = eye_distance / (eye_distance + distance_to_origin + vert.z)\n",
    "    print(\"K: \", k)\n",
    "    proj_y = vert.y * k\n",
    "    proj_x = vert.x * k\n",
    "    screen_proj_y = screen_y * proj_y + screen_y // 2\n",
    "    screen_proj_x = screen_x * proj_x + screen_x // 2\n",
    "\n",
    "    print(\"                    x   y   z\")\n",
    "    print(\"World position:    \", vert.x, vert.y, vert.z)\n",
    "    print(\"Screen projection: \", proj_x, proj_y)\n",
    "    print(\"Screen pixels:     \", screen_proj_x, screen_proj_y)\n",
    "    return int(screen_proj_y), int(screen_proj_x)\n",
    "\n",
    "def draw_circle(x: int, y: int, radius: int, color: float, data: np.ndarray) -> None:\n",
    "    for dy in range(-radius, +radius):\n",
    "        for dx in range(-radius, +radius):\n",
    "            r = np.sqrt(dy * dy + dx * dx)\n",
    "            if r >= radius:\n",
    "                continue\n",
    "            rasterize(x + dx, y + dy, color = 255.0, data = data)\n",
    "\n",
    "def rasterize(x: int, y: int, color: float, data: np.ndarray):\n",
    "    if (x < 0 or x >= screen_x) or (y < 0 or y >= screen_y):\n",
    "        return\n",
    "    data[-y][x] = color\n",
    "\n",
    "def show(data):\n",
    "    Image.fromarray(data).show()\n",
    "\n",
    "data = np.zeros((screen_y, screen_x))\n",
    "point1 = Vertex([0.0, 0.0, 0.0])\n",
    "proj_y, proj_x = draw_vertex(point1)\n",
    "draw_circle(proj_x, proj_y, radius=32, color = 255.0, data = data)\n",
    "show(data)"
   ]
  }
 ],
 "metadata": {
  "kernelspec": {
   "display_name": "base",
   "language": "python",
   "name": "python3"
  },
  "language_info": {
   "codemirror_mode": {
    "name": "ipython",
    "version": 3
   },
   "file_extension": ".py",
   "mimetype": "text/x-python",
   "name": "python",
   "nbconvert_exporter": "python",
   "pygments_lexer": "ipython3",
   "version": "3.11.5"
  }
 },
 "nbformat": 4,
 "nbformat_minor": 2
}
